{
 "cells": [
  {
   "cell_type": "markdown",
   "metadata": {},
   "source": [
    "# Join Statements - Lab\n",
    "\n",
    "## Introduction\n",
    "\n",
    "In this lab, you'll practice your knowledge on Join statements.\n",
    "\n",
    "## Objectives\n",
    "\n",
    "You will be able to:\n",
    "- Write queries that make use of various types of Joins\n",
    "- Join tables using foreign keys"
   ]
  },
  {
   "cell_type": "markdown",
   "metadata": {},
   "source": [
    "## CRM Schema\n",
    "\n",
    "In almost all cases, rather then just working with a single table we will typically need data from multiple tables. \n",
    "Doing this requires the use of **joins ** using shared columns from the two tables. \n",
    "\n",
    "In this lab, we'll use the same Customer Relationship Management (CRM) database we used in our lecture before!\n",
    "<img src='Database-Schema.png' width=550>"
   ]
  },
  {
   "cell_type": "markdown",
   "metadata": {},
   "source": [
    "## Connecting to the Database\n",
    "Import the necessary packages and connect to the database **data.sqlite**."
   ]
  },
  {
   "cell_type": "code",
   "execution_count": 15,
   "metadata": {},
   "outputs": [],
   "source": [
    "#Your code here\n",
    "import sqlite3\n",
    "import pandas as pd\n",
    "connection = sqlite3.connect('data.sqlite', detect_types=sqlite3.PARSE_COLNAMES)\n",
    "cursor = connection.cursor()"
   ]
  },
  {
   "cell_type": "markdown",
   "metadata": {},
   "source": [
    "## Display the names of all the employees in Boston."
   ]
  },
  {
   "cell_type": "code",
   "execution_count": 16,
   "metadata": {},
   "outputs": [
    {
     "data": {
      "text/plain": [
       "[('Julie', 'Firrelli'), ('Steve', 'Patterson')]"
      ]
     },
     "execution_count": 16,
     "metadata": {},
     "output_type": "execute_result"
    }
   ],
   "source": [
    "#Your code here\n",
    "cursor.execute(\"\"\"select firstName, lastName from employees join offices using(OfficeCode) where city = 'Boston'\"\"\").fetchall()"
   ]
  },
  {
   "cell_type": "markdown",
   "metadata": {},
   "source": [
    "## Do any offices have no employees?"
   ]
  },
  {
   "cell_type": "code",
   "execution_count": 26,
   "metadata": {},
   "outputs": [
    {
     "data": {
      "text/plain": [
       "[('Boston', 2),\n",
       " ('London', 2),\n",
       " ('NYC', 2),\n",
       " ('Paris', 5),\n",
       " ('San Francisco', 6),\n",
       " ('Sydney', 4),\n",
       " ('Tokyo', 2)]"
      ]
     },
     "execution_count": 26,
     "metadata": {},
     "output_type": "execute_result"
    }
   ],
   "source": [
    "#Your code here\n",
    "cursor.execute(\"\"\"select city, count (*) from offices left join employees using(OfficeCode) group by 1;\"\"\").fetchall()"
   ]
  },
  {
   "cell_type": "code",
   "execution_count": 29,
   "metadata": {},
   "outputs": [
    {
     "data": {
      "text/html": [
       "<div>\n",
       "<style scoped>\n",
       "    .dataframe tbody tr th:only-of-type {\n",
       "        vertical-align: middle;\n",
       "    }\n",
       "\n",
       "    .dataframe tbody tr th {\n",
       "        vertical-align: top;\n",
       "    }\n",
       "\n",
       "    .dataframe thead th {\n",
       "        text-align: right;\n",
       "    }\n",
       "</style>\n",
       "<table border=\"1\" class=\"dataframe\">\n",
       "  <thead>\n",
       "    <tr style=\"text-align: right;\">\n",
       "      <th></th>\n",
       "      <th>0</th>\n",
       "      <th>1</th>\n",
       "    </tr>\n",
       "  </thead>\n",
       "  <tbody>\n",
       "    <tr>\n",
       "      <th>0</th>\n",
       "      <td>Boston</td>\n",
       "      <td>2</td>\n",
       "    </tr>\n",
       "    <tr>\n",
       "      <th>1</th>\n",
       "      <td>London</td>\n",
       "      <td>2</td>\n",
       "    </tr>\n",
       "    <tr>\n",
       "      <th>2</th>\n",
       "      <td>NYC</td>\n",
       "      <td>2</td>\n",
       "    </tr>\n",
       "    <tr>\n",
       "      <th>3</th>\n",
       "      <td>Paris</td>\n",
       "      <td>5</td>\n",
       "    </tr>\n",
       "    <tr>\n",
       "      <th>4</th>\n",
       "      <td>San Francisco</td>\n",
       "      <td>6</td>\n",
       "    </tr>\n",
       "    <tr>\n",
       "      <th>5</th>\n",
       "      <td>Sydney</td>\n",
       "      <td>4</td>\n",
       "    </tr>\n",
       "    <tr>\n",
       "      <th>6</th>\n",
       "      <td>Tokyo</td>\n",
       "      <td>2</td>\n",
       "    </tr>\n",
       "  </tbody>\n",
       "</table>\n",
       "</div>"
      ],
      "text/plain": [
       "               0  1\n",
       "0         Boston  2\n",
       "1         London  2\n",
       "2            NYC  2\n",
       "3          Paris  5\n",
       "4  San Francisco  6\n",
       "5         Sydney  4\n",
       "6          Tokyo  2"
      ]
     },
     "execution_count": 29,
     "metadata": {},
     "output_type": "execute_result"
    }
   ],
   "source": [
    "# Comparing to solution's code.  Solution output looks a lot nicer, but returns same values.\n",
    "cursor.execute(\"\"\"select city,\n",
    "                    count(*)\n",
    "                    from offices\n",
    "                    left join employees\n",
    "                    using(officeCode)\n",
    "                    group by 1;\"\"\")\n",
    "df = pd.DataFrame(cursor.fetchall())\n",
    "df.head(10)"
   ]
  },
  {
   "cell_type": "markdown",
   "metadata": {},
   "source": [
    "## Write 3 Questions of your own and answer them"
   ]
  },
  {
   "cell_type": "code",
   "execution_count": null,
   "metadata": {},
   "outputs": [],
   "source": [
    "# 1. Do any of our employees have duplicate email addresses? - yes, there is 1 employee\n",
    "# 2. What products do we sell again? - code shown below suggests we sell everything from Ford trucks to the Titanic.\n",
    "# 3. Who is the boss around here? Diane Murphy is the President and works from the SF Office."
   ]
  },
  {
   "cell_type": "code",
   "execution_count": 38,
   "metadata": {},
   "outputs": [
    {
     "data": {
      "text/plain": [
       "[('abow@classicmodelcars.com', 1),\n",
       " ('afixter@classicmodelcars.com', 1),\n",
       " ('bjones@classicmodelcars.com', 1),\n",
       " ('dmurphy@classicmodelcars.com', 1),\n",
       " ('ftseng@classicmodelcars.com', 1),\n",
       " ('gbondur@classicmodelcars.com', 1),\n",
       " ('ghernande@classicmodelcars.com', 1),\n",
       " ('gvanauf@classicmodelcars.com', 1),\n",
       " ('jfirrelli@classicmodelcars.com', 2),\n",
       " ('lbondur@classicmodelcars.com', 1),\n",
       " ('lbott@classicmodelcars.com', 1),\n",
       " ('ljennings@classicmodelcars.com', 1),\n",
       " ('lthompson@classicmodelcars.com', 1),\n",
       " ('mgerard@classicmodelcars.com', 1),\n",
       " ('mnishi@classicmodelcars.com', 1),\n",
       " ('mpatterso@classicmodelcars.com', 1),\n",
       " ('pcastillo@classicmodelcars.com', 1),\n",
       " ('pmarsh@classicmodelcars.com', 1),\n",
       " ('spatterson@classicmodelcars.com', 1),\n",
       " ('tking@classicmodelcars.com', 1),\n",
       " ('wpatterson@classicmodelcars.com', 1),\n",
       " ('ykato@classicmodelcars.com', 1)]"
      ]
     },
     "execution_count": 38,
     "metadata": {},
     "output_type": "execute_result"
    }
   ],
   "source": [
    "# Code for 1:\n",
    "cursor.execute(\"\"\"select email, count (*) from offices left join employees using(officeCode) group by 1;\"\"\").fetchall()\n",
    "# df = pd.DataFrame(cursor.fetchall())\n",
    "# df"
   ]
  },
  {
   "cell_type": "code",
   "execution_count": 39,
   "metadata": {},
   "outputs": [
    {
     "data": {
      "text/plain": [
       "[('18th Century Vintage Horse Carriage',),\n",
       " ('18th century schooner',),\n",
       " ('1900s Vintage Bi-Plane',),\n",
       " ('1900s Vintage Tri-Plane',),\n",
       " ('1903 Ford Model A',),\n",
       " ('1904 Buick Runabout',),\n",
       " ('1911 Ford Town Car',),\n",
       " ('1912 Ford Model T Delivery Wagon',),\n",
       " ('1913 Ford Model T Speedster',),\n",
       " ('1917 Grand Touring Sedan',),\n",
       " ('1917 Maxwell Touring Car',),\n",
       " ('1926 Ford Fire Engine',),\n",
       " ('1928 British Royal Navy Airplane',),\n",
       " ('1928 Ford Phaeton Deluxe',),\n",
       " ('1928 Mercedes-Benz SSK',),\n",
       " ('1930 Buick Marquette Phaeton',),\n",
       " ('1932 Alfa Romeo 8C2300 Spider Sport',),\n",
       " ('1932 Model A Ford J-Coupe',),\n",
       " ('1934 Ford V8 Coupe',),\n",
       " ('1936 Chrysler Airflow',),\n",
       " ('1936 Harley Davidson El Knucklehead',),\n",
       " ('1936 Mercedes Benz 500k Roadster',),\n",
       " ('1936 Mercedes-Benz 500K Special Roadster',),\n",
       " ('1937 Horch 930V Limousine',),\n",
       " ('1937 Lincoln Berline',),\n",
       " ('1938 Cadillac V-16 Presidential Limousine',),\n",
       " ('1939 Cadillac Limousine',),\n",
       " ('1939 Chevrolet Deluxe Coupe',),\n",
       " ('1940 Ford Delivery Sedan',),\n",
       " ('1940 Ford Pickup Truck',),\n",
       " ('1940s Ford truck',),\n",
       " ('1941 Chevrolet Special Deluxe Cabriolet',),\n",
       " ('1948 Porsche 356-A Roadster',),\n",
       " ('1948 Porsche Type 356 Roadster',),\n",
       " ('1949 Jaguar XK 120',),\n",
       " (\"1950's Chicago Surface Lines Streetcar\",),\n",
       " ('1952 Alpine Renault 1300',),\n",
       " ('1952 Citroen-15CV',),\n",
       " ('1954 Greyhound Scenicruiser',),\n",
       " ('1956 Porsche 356A Coupe',),\n",
       " ('1957 Chevy Pickup',),\n",
       " ('1957 Corvette Convertible',),\n",
       " ('1957 Ford Thunderbird',),\n",
       " ('1957 Vespa GS150',),\n",
       " ('1958 Chevy Corvette Limited Edition',),\n",
       " ('1958 Setra Bus',),\n",
       " ('1960 BSA Gold Star DBD34',),\n",
       " ('1961 Chevrolet Impala',),\n",
       " ('1962 City of Detroit Streetcar',),\n",
       " ('1962 LanciaA Delta 16V',),\n",
       " ('1962 Volkswagen Microbus',),\n",
       " ('1964 Mercedes Tour Bus',),\n",
       " ('1965 Aston Martin DB5',),\n",
       " ('1966 Shelby Cobra 427 S/C',),\n",
       " ('1968 Dodge Charger',),\n",
       " ('1968 Ford Mustang',),\n",
       " ('1969 Chevrolet Camaro Z28',),\n",
       " ('1969 Corvair Monza',),\n",
       " ('1969 Dodge Charger',),\n",
       " ('1969 Dodge Super Bee',),\n",
       " ('1969 Ford Falcon',),\n",
       " ('1969 Harley Davidson Ultimate Chopper',),\n",
       " ('1970 Chevy Chevelle SS 454',),\n",
       " ('1970 Dodge Coronet',),\n",
       " ('1970 Plymouth Hemi Cuda',),\n",
       " ('1970 Triumph Spitfire',),\n",
       " ('1971 Alpine Renault 1600s',),\n",
       " ('1972 Alfa Romeo GTA',),\n",
       " ('1974 Ducati 350 Mk3 Desmo',),\n",
       " ('1976 Ford Gran Torino',),\n",
       " ('1980s Black Hawk Helicopter',),\n",
       " ('1980’s GM Manhattan Express',),\n",
       " ('1982 Camaro Z28',),\n",
       " ('1982 Ducati 900 Monster',),\n",
       " ('1982 Ducati 996 R',),\n",
       " ('1982 Lamborghini Diablo',),\n",
       " ('1985 Toyota Supra',),\n",
       " ('1992 Ferrari 360 Spider red',),\n",
       " ('1992 Porsche Cayenne Turbo Silver',),\n",
       " ('1993 Mazda RX-7',),\n",
       " ('1995 Honda Civic',),\n",
       " ('1996 Moto Guzzi 1100i',),\n",
       " ('1996 Peterbilt 379 Stake Bed with Outrigger',),\n",
       " ('1997 BMW F650 ST',),\n",
       " ('1997 BMW R 1100 S',),\n",
       " ('1998 Chrysler Plymouth Prowler',),\n",
       " ('1999 Indy 500 Monte Carlo SS',),\n",
       " ('1999 Yamaha Speed Boat',),\n",
       " ('2001 Ferrari Enzo',),\n",
       " ('2002 Chevy Corvette',),\n",
       " ('2002 Suzuki XREO',),\n",
       " ('2002 Yamaha YZR M1',),\n",
       " ('2003 Harley-Davidson Eagle Drag Bike',),\n",
       " ('ATA: B757-300',),\n",
       " ('America West Airlines B757-200',),\n",
       " ('American Airlines: B767-300',),\n",
       " ('American Airlines: MD-11S',),\n",
       " ('Boeing X-32A JSF',),\n",
       " ('Collectable Wooden Train',),\n",
       " ('Corsair F4U ( Bird Cage)',),\n",
       " ('Diamond T620 Semi-Skirted Tanker',),\n",
       " ('F/A 18 Hornet 1/72',),\n",
       " ('HMS Bounty',),\n",
       " ('P-51-D Mustang',),\n",
       " ('Pont Yacht',),\n",
       " ('The Mayflower',),\n",
       " ('The Queen Mary',),\n",
       " ('The Schooner Bluenose',),\n",
       " ('The Titanic',),\n",
       " ('The USS Constitution Ship',)]"
      ]
     },
     "execution_count": 39,
     "metadata": {},
     "output_type": "execute_result"
    }
   ],
   "source": [
    "# Code for 2.\n",
    "cursor.execute(\"\"\"select productName from products group by 1;\"\"\").fetchall()"
   ]
  },
  {
   "cell_type": "code",
   "execution_count": 40,
   "metadata": {
    "scrolled": true
   },
   "outputs": [
    {
     "data": {
      "text/plain": [
       "[('President',),\n",
       " ('Sale Manager (EMEA)',),\n",
       " ('Sales Manager (APAC)',),\n",
       " ('Sales Manager (NA)',),\n",
       " ('Sales Rep',),\n",
       " ('VP Marketing',),\n",
       " ('VP Sales',)]"
      ]
     },
     "execution_count": 40,
     "metadata": {},
     "output_type": "execute_result"
    }
   ],
   "source": [
    "# Code for 3 pt1:\n",
    "cursor.execute(\"\"\"select jobTitle from employees left join offices using(officeCode) group by 1;\"\"\").fetchall()"
   ]
  },
  {
   "cell_type": "code",
   "execution_count": 41,
   "metadata": {},
   "outputs": [
    {
     "data": {
      "text/plain": [
       "[('1002',\n",
       "  'Murphy',\n",
       "  'Diane',\n",
       "  'x5800',\n",
       "  'dmurphy@classicmodelcars.com',\n",
       "  '1',\n",
       "  '',\n",
       "  'President',\n",
       "  'San Francisco',\n",
       "  '+1 650 219 4782',\n",
       "  '100 Market Street',\n",
       "  'Suite 300',\n",
       "  'CA',\n",
       "  'USA',\n",
       "  '94080',\n",
       "  'NA')]"
      ]
     },
     "execution_count": 41,
     "metadata": {},
     "output_type": "execute_result"
    }
   ],
   "source": [
    "# Code for 3 pt2:\n",
    "cursor.execute(\"\"\"select * from employees left join offices using(officeCode) where jobTitle == 'President' group by 1;\"\"\").fetchall()"
   ]
  },
  {
   "cell_type": "markdown",
   "metadata": {},
   "source": [
    "## Level Up: Display the names of each product each employee has sold."
   ]
  },
  {
   "cell_type": "code",
   "execution_count": null,
   "metadata": {},
   "outputs": [],
   "source": [
    "# Your code here"
   ]
  },
  {
   "cell_type": "markdown",
   "metadata": {},
   "source": [
    "## Level Up: Display the Number of Products each Employee Has sold"
   ]
  },
  {
   "cell_type": "code",
   "execution_count": null,
   "metadata": {},
   "outputs": [],
   "source": [
    "#Your code here"
   ]
  },
  {
   "cell_type": "markdown",
   "metadata": {},
   "source": [
    "## Summary"
   ]
  },
  {
   "cell_type": "markdown",
   "metadata": {},
   "source": [
    "Congrats! You now know how to use Join statements, along with leveraging your foreign keys knowledge!"
   ]
  }
 ],
 "metadata": {
  "kernelspec": {
   "display_name": "learn-env",
   "language": "python",
   "name": "learn-env"
  },
  "language_info": {
   "codemirror_mode": {
    "name": "ipython",
    "version": 3
   },
   "file_extension": ".py",
   "mimetype": "text/x-python",
   "name": "python",
   "nbconvert_exporter": "python",
   "pygments_lexer": "ipython3",
   "version": "3.6.8"
  }
 },
 "nbformat": 4,
 "nbformat_minor": 2
}
